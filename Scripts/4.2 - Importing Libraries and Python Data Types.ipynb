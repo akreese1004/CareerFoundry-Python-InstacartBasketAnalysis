{
 "cells": [
  {
   "cell_type": "code",
   "execution_count": 1,
   "id": "113a26e9",
   "metadata": {},
   "outputs": [],
   "source": [
    "# Import libraries\n",
    "import pandas as pd\n",
    "import numpy as np\n",
    "import os"
   ]
  },
  {
   "cell_type": "code",
   "execution_count": null,
   "id": "bb1fd432",
   "metadata": {},
   "outputs": [],
   "source": [
    "# Integers"
   ]
  },
  {
   "cell_type": "code",
   "execution_count": 2,
   "id": "abd33792",
   "metadata": {},
   "outputs": [],
   "source": [
    "x = 2"
   ]
  },
  {
   "cell_type": "code",
   "execution_count": 3,
   "id": "1d25da35",
   "metadata": {},
   "outputs": [
    {
     "data": {
      "text/plain": [
       "2"
      ]
     },
     "execution_count": 3,
     "metadata": {},
     "output_type": "execute_result"
    }
   ],
   "source": [
    "x"
   ]
  },
  {
   "cell_type": "code",
   "execution_count": 4,
   "id": "ee2792f6",
   "metadata": {},
   "outputs": [
    {
     "data": {
      "text/plain": [
       "int"
      ]
     },
     "execution_count": 4,
     "metadata": {},
     "output_type": "execute_result"
    }
   ],
   "source": [
    "type(x)"
   ]
  },
  {
   "cell_type": "code",
   "execution_count": 14,
   "id": "62829e3c",
   "metadata": {},
   "outputs": [],
   "source": [
    "# Floating-Point Number"
   ]
  },
  {
   "cell_type": "code",
   "execution_count": 5,
   "id": "bc31bc85",
   "metadata": {},
   "outputs": [],
   "source": [
    "y = 5.678"
   ]
  },
  {
   "cell_type": "code",
   "execution_count": 6,
   "id": "38328356",
   "metadata": {},
   "outputs": [
    {
     "data": {
      "text/plain": [
       "float"
      ]
     },
     "execution_count": 6,
     "metadata": {},
     "output_type": "execute_result"
    }
   ],
   "source": [
    "type(y)"
   ]
  },
  {
   "cell_type": "code",
   "execution_count": null,
   "id": "27e9e3bd",
   "metadata": {},
   "outputs": [],
   "source": [
    "# String"
   ]
  },
  {
   "cell_type": "code",
   "execution_count": 7,
   "id": "67b4787f",
   "metadata": {},
   "outputs": [],
   "source": [
    "z = 'Brazil'"
   ]
  },
  {
   "cell_type": "code",
   "execution_count": 8,
   "id": "3389d9a3",
   "metadata": {},
   "outputs": [
    {
     "data": {
      "text/plain": [
       "str"
      ]
     },
     "execution_count": 8,
     "metadata": {},
     "output_type": "execute_result"
    }
   ],
   "source": [
    "type(z)"
   ]
  },
  {
   "cell_type": "code",
   "execution_count": null,
   "id": "48585022",
   "metadata": {},
   "outputs": [],
   "source": [
    "# Boolean"
   ]
  },
  {
   "cell_type": "code",
   "execution_count": 10,
   "id": "b1982351",
   "metadata": {},
   "outputs": [
    {
     "data": {
      "text/plain": [
       "bool"
      ]
     },
     "execution_count": 10,
     "metadata": {},
     "output_type": "execute_result"
    }
   ],
   "source": [
    "type(True)"
   ]
  },
  {
   "cell_type": "code",
   "execution_count": 11,
   "id": "a40b9762",
   "metadata": {},
   "outputs": [
    {
     "data": {
      "text/plain": [
       "bool"
      ]
     },
     "execution_count": 11,
     "metadata": {},
     "output_type": "execute_result"
    }
   ],
   "source": [
    "type(False)"
   ]
  },
  {
   "cell_type": "code",
   "execution_count": 12,
   "id": "a7dc7453",
   "metadata": {},
   "outputs": [
    {
     "data": {
      "text/plain": [
       "False"
      ]
     },
     "execution_count": 12,
     "metadata": {},
     "output_type": "execute_result"
    }
   ],
   "source": [
    "x==y"
   ]
  },
  {
   "cell_type": "code",
   "execution_count": null,
   "id": "001f6c14",
   "metadata": {},
   "outputs": [],
   "source": [
    "#Question 7"
   ]
  },
  {
   "cell_type": "code",
   "execution_count": 15,
   "id": "c958d10d",
   "metadata": {},
   "outputs": [],
   "source": [
    "q = 50"
   ]
  },
  {
   "cell_type": "code",
   "execution_count": 16,
   "id": "273dfe20",
   "metadata": {},
   "outputs": [
    {
     "data": {
      "text/plain": [
       "100"
      ]
     },
     "execution_count": 16,
     "metadata": {},
     "output_type": "execute_result"
    }
   ],
   "source": [
    "q + q"
   ]
  },
  {
   "cell_type": "code",
   "execution_count": 17,
   "id": "7a7342ed",
   "metadata": {},
   "outputs": [],
   "source": [
    "w = 200\n",
    "e = 100"
   ]
  },
  {
   "cell_type": "code",
   "execution_count": 18,
   "id": "a4d5f55f",
   "metadata": {},
   "outputs": [
    {
     "data": {
      "text/plain": [
       "100"
      ]
     },
     "execution_count": 18,
     "metadata": {},
     "output_type": "execute_result"
    }
   ],
   "source": [
    "w - e"
   ]
  },
  {
   "cell_type": "code",
   "execution_count": 19,
   "id": "27352b6f",
   "metadata": {},
   "outputs": [],
   "source": [
    "r = 25\n",
    "t = 20\n",
    "u = 5"
   ]
  },
  {
   "cell_type": "code",
   "execution_count": 38,
   "id": "ddca5061",
   "metadata": {},
   "outputs": [
    {
     "data": {
      "text/plain": [
       "100"
      ]
     },
     "execution_count": 38,
     "metadata": {},
     "output_type": "execute_result"
    }
   ],
   "source": [
    "q + r + t + u"
   ]
  },
  {
   "cell_type": "code",
   "execution_count": 21,
   "id": "36bc430e",
   "metadata": {},
   "outputs": [],
   "source": [
    "# Question 8"
   ]
  },
  {
   "cell_type": "code",
   "execution_count": 22,
   "id": "6f46d7c0",
   "metadata": {},
   "outputs": [
    {
     "data": {
      "text/plain": [
       "0.6936973103171417"
      ]
     },
     "execution_count": 22,
     "metadata": {},
     "output_type": "execute_result"
    }
   ],
   "source": [
    "i = 3.456\n",
    "o = 4.982\n",
    "i/o"
   ]
  },
  {
   "cell_type": "code",
   "execution_count": 23,
   "id": "615539ef",
   "metadata": {},
   "outputs": [],
   "source": [
    "# Question 9"
   ]
  },
  {
   "cell_type": "code",
   "execution_count": 25,
   "id": "30a814b3",
   "metadata": {},
   "outputs": [
    {
     "data": {
      "text/plain": [
       "'cupcake'"
      ]
     },
     "execution_count": 25,
     "metadata": {},
     "output_type": "execute_result"
    }
   ],
   "source": [
    "p = 'cup'\n",
    "a = 'cake'\n",
    "p + a"
   ]
  },
  {
   "cell_type": "code",
   "execution_count": 47,
   "id": "d951f953",
   "metadata": {},
   "outputs": [],
   "source": [
    "# Question 10\n",
    "s = 'Hello, '\n",
    "d = 'how '\n",
    "f = 'are '\n",
    "g = 'you?'\n",
    "h = 'Not '\n",
    "j = 'good, '\n",
    "k = 'I '\n",
    "l = 'fell '\n",
    "c = 'over.'"
   ]
  },
  {
   "cell_type": "code",
   "execution_count": 48,
   "id": "413f2c1f",
   "metadata": {},
   "outputs": [
    {
     "data": {
      "text/plain": [
       "'Hello, how are you?'"
      ]
     },
     "execution_count": 48,
     "metadata": {},
     "output_type": "execute_result"
    }
   ],
   "source": [
    "s + d + f + g"
   ]
  },
  {
   "cell_type": "code",
   "execution_count": 49,
   "id": "f139eb75",
   "metadata": {},
   "outputs": [
    {
     "data": {
      "text/plain": [
       "'Not good, I fell over.'"
      ]
     },
     "execution_count": 49,
     "metadata": {},
     "output_type": "execute_result"
    }
   ],
   "source": [
    "h + j + k + l + c"
   ]
  },
  {
   "cell_type": "code",
   "execution_count": 39,
   "id": "60644136",
   "metadata": {},
   "outputs": [],
   "source": [
    "#Bonus"
   ]
  },
  {
   "cell_type": "code",
   "execution_count": 45,
   "id": "7f70f778",
   "metadata": {},
   "outputs": [],
   "source": [
    "v = 'cat'"
   ]
  },
  {
   "cell_type": "code",
   "execution_count": 46,
   "id": "2487b315",
   "metadata": {},
   "outputs": [
    {
     "data": {
      "text/plain": [
       "'catcatcatcatcatcatcatcatcatcatcatcatcatcatcatcatcatcatcatcatcatcatcatcatcatcatcatcatcatcatcatcatcatcatcatcatcatcatcatcatcatcatcatcatcatcatcatcatcatcatcatcatcatcatcatcatcatcatcatcatcatcatcatcatcatcatcatcatcatcatcatcatcatcatcatcatcatcatcatcatcatcatcatcatcatcatcatcatcatcatcatcatcatcatcatcatcatcatcatcat'"
      ]
     },
     "execution_count": 46,
     "metadata": {},
     "output_type": "execute_result"
    }
   ],
   "source": [
    "v * 100"
   ]
  },
  {
   "cell_type": "code",
   "execution_count": null,
   "id": "afce1052",
   "metadata": {},
   "outputs": [],
   "source": []
  }
 ],
 "metadata": {
  "kernelspec": {
   "display_name": "Python 3 (ipykernel)",
   "language": "python",
   "name": "python3"
  },
  "language_info": {
   "codemirror_mode": {
    "name": "ipython",
    "version": 3
   },
   "file_extension": ".py",
   "mimetype": "text/x-python",
   "name": "python",
   "nbconvert_exporter": "python",
   "pygments_lexer": "ipython3",
   "version": "3.10.9"
  }
 },
 "nbformat": 4,
 "nbformat_minor": 5
}
